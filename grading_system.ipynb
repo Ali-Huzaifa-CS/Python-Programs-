{
 "cells": [
  {
   "cell_type": "code",
   "execution_count": 3,
   "metadata": {},
   "outputs": [],
   "source": [
    "# Write a program which takes 5 inputs from user for different subject’s marks, total it\n",
    "# and generate mark sheet using grades ?"
   ]
  },
  {
   "cell_type": "code",
   "execution_count": 4,
   "metadata": {},
   "outputs": [],
   "source": [
    "physics = int(input(\"Enter your marks :\"))\n",
    "maths = int(input(\"Enter your marks :\"))\n",
    "computer = int(input(\"Enter your marks :\"))\n",
    "biology = int(input(\"Enter your marks :\"))\n",
    "history = int(input(\"Enter your marks :\"))\n",
    "total_num = physics + maths + computer + biology + history"
   ]
  },
  {
   "cell_type": "code",
   "execution_count": 6,
   "metadata": {},
   "outputs": [
    {
     "name": "stdout",
     "output_type": "stream",
     "text": [
      "Your grade is A and your total number is 85\n"
     ]
    }
   ],
   "source": [
    "if(total_num >= 80):\n",
    "    print(f\"Your grade is A and your total number is {total_num}\")\n",
    "elif(total_num >=70 and total_num < 80):\n",
    "    print(f\"Your grade is B and your totak number is {total_num}\")\n",
    "elif(total_num >=60 and total_num < 70):\n",
    "    print(f\"Your grade is B and your totak number is {total_num}\")\n",
    "elif(total_num >=50 and total_num < 60):\n",
    "    print(f\"Your grade is B and your totak number is {total_num}\")\n",
    "elif(total_num < 50):\n",
    "    print(\"FAIL \")"
   ]
  },
  {
   "cell_type": "code",
   "execution_count": null,
   "metadata": {},
   "outputs": [],
   "source": []
  }
 ],
 "metadata": {
  "kernelspec": {
   "display_name": "Python 3",
   "language": "python",
   "name": "python3"
  },
  "language_info": {
   "codemirror_mode": {
    "name": "ipython",
    "version": 3
   },
   "file_extension": ".py",
   "mimetype": "text/x-python",
   "name": "python",
   "nbconvert_exporter": "python",
   "pygments_lexer": "ipython3",
   "version": "3.10.1"
  }
 },
 "nbformat": 4,
 "nbformat_minor": 2
}
