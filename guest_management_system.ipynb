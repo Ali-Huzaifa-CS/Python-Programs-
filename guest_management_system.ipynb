{
 "cells": [
  {
   "cell_type": "markdown",
   "metadata": {},
   "source": [
    "# GUEST MANAGEMENT SYSTEM"
   ]
  },
  {
   "cell_type": "markdown",
   "metadata": {},
   "source": [
    "## 4-1."
   ]
  },
  {
   "cell_type": "code",
   "execution_count": 32,
   "metadata": {},
   "outputs": [
    {
     "name": "stdout",
     "output_type": "stream",
     "text": [
      "Ali You are cordially invited to dinner. We look forward to your presence.\n",
      "Best regards\n",
      "\n",
      "Sufyan You are cordially invited to dinner. We look forward to your presence.\n",
      "Best regards\n",
      "\n",
      "Umer You are cordially invited to dinner. We look forward to your presence.\n",
      "Best regards\n",
      "\n"
     ]
    }
   ],
   "source": [
    "guest_list = [\"Ali\",\"Sufyan\",\"Umer\"]\n",
    "\n",
    "for i in range(len(guest_list)):\n",
    "    print(guest_list[i], \"You are cordially invited to dinner. We look forward to your presence.\\nBest regards\")\n",
    "    print()"
   ]
  },
  {
   "cell_type": "markdown",
   "metadata": {},
   "source": [
    "## 4-2"
   ]
  },
  {
   "cell_type": "code",
   "execution_count": 33,
   "metadata": {},
   "outputs": [
    {
     "name": "stdout",
     "output_type": "stream",
     "text": [
      "Umer is not availble... \n",
      "['Ali', 'Sufyan', 'Ahmed']\n"
     ]
    }
   ],
   "source": [
    "print(\"Umer is not availble... \")\n",
    "# modify list change umer into ahmed \n",
    "guest_list[2]= \"Ahmed\"\n",
    "print(guest_list)"
   ]
  },
  {
   "cell_type": "code",
   "execution_count": 34,
   "metadata": {},
   "outputs": [
    {
     "name": "stdout",
     "output_type": "stream",
     "text": [
      "Ali You are cordially invited to dinner. We look forward to your presence.\n",
      "Best regards\n",
      "\n",
      "Sufyan You are cordially invited to dinner. We look forward to your presence.\n",
      "Best regards\n",
      "\n",
      "Ahmed You are cordially invited to dinner. We look forward to your presence.\n",
      "Best regards\n",
      "\n"
     ]
    }
   ],
   "source": [
    "for i in range(len(guest_list)):\n",
    "    print(guest_list[i], \"You are cordially invited to dinner. We look forward to your presence.\\nBest regards\")\n",
    "    print()"
   ]
  },
  {
   "cell_type": "markdown",
   "metadata": {},
   "source": [
    "## 4-3"
   ]
  },
  {
   "cell_type": "code",
   "execution_count": 35,
   "metadata": {},
   "outputs": [
    {
     "name": "stdout",
     "output_type": "stream",
     "text": [
      "Good newz! We found a bigger table so we decide to add more three people in our guest list \n",
      "Abdul Rehman You are cordially invited to dinner. We look forward to your presence.\n",
      "Best regards\n",
      "\n",
      "Ali You are cordially invited to dinner. We look forward to your presence.\n",
      "Best regards\n",
      "\n",
      "Rafay You are cordially invited to dinner. We look forward to your presence.\n",
      "Best regards\n",
      "\n",
      "Sufyan You are cordially invited to dinner. We look forward to your presence.\n",
      "Best regards\n",
      "\n",
      "Ahmed You are cordially invited to dinner. We look forward to your presence.\n",
      "Best regards\n",
      "\n",
      "Uzair You are cordially invited to dinner. We look forward to your presence.\n",
      "Best regards\n",
      "\n"
     ]
    }
   ],
   "source": [
    "print(\"Good newz! We found a bigger table so we decide to add more three people in our guest list \") \n",
    "\n",
    "guest_list.insert(0,\"Abdul Rehman\")\n",
    "guest_list.insert(2,\"Rafay\")\n",
    "guest_list.append(\"Uzair\")\n",
    "\n",
    "for i in range(len(guest_list)):\n",
    "    print(guest_list[i], \"You are cordially invited to dinner. We look forward to your presence.\\nBest regards\")\n",
    "    print()"
   ]
  },
  {
   "cell_type": "markdown",
   "metadata": {},
   "source": [
    "##  4-4 "
   ]
  },
  {
   "cell_type": "code",
   "execution_count": 36,
   "metadata": {},
   "outputs": [
    {
     "name": "stdout",
     "output_type": "stream",
     "text": [
      "We can invite only two people for dinner \n",
      "Sorry Abdul Rehman, we can't invite you to dinner.\n",
      "Sorry Ali, we can't invite you to dinner.\n",
      "Sorry Rafay, we can't invite you to dinner.\n",
      "Sorry Sufyan, we can't invite you to dinner.\n",
      "\n",
      "Final guest list: ['Ahmed', 'Uzair']\n",
      "Ahmed You are still invited \n",
      "Uzair You are still invited \n"
     ]
    }
   ],
   "source": [
    "print(\"We can invite only two people for dinner \")\n",
    "\n",
    "for i in range(len(guest_list) - 2):\n",
    "    removed_guest = guest_list.pop(0)\n",
    "    print(f\"Sorry {removed_guest}, we can't invite you to dinner.\")\n",
    "print(\"\\nFinal guest list:\", guest_list)\n",
    "\n",
    "for i in range(len(guest_list)):\n",
    "    print(guest_list[i],\"You are still invited \")\n",
    "    "
   ]
  },
  {
   "cell_type": "code",
   "execution_count": 37,
   "metadata": {},
   "outputs": [
    {
     "name": "stdout",
     "output_type": "stream",
     "text": [
      "[]\n"
     ]
    }
   ],
   "source": [
    "guest_list.clear()\n",
    "print(guest_list)"
   ]
  },
  {
   "cell_type": "markdown",
   "metadata": {},
   "source": [
    "## 4-5"
   ]
  },
  {
   "cell_type": "code",
   "execution_count": 45,
   "metadata": {},
   "outputs": [
    {
     "name": "stdout",
     "output_type": "stream",
     "text": [
      "['Pakistan', 'Canada', 'Germany']\n",
      "['Iraq']\n",
      "['Pakistan', 'France', 'Japan', 'Brazil']\n"
     ]
    }
   ],
   "source": [
    "countries = [\"Pakistan\", \"Canada\", \"Germany\", \"France\",[\"United States\", \"Iraq\",\"Iran\"], \"Australia\", \"Japan\",\n",
    "             \"China\", \"India\",\"Brazil\", \"South Africa\"]\n",
    "\n",
    "\n",
    "# perform slicing \n",
    "print(countries[0:3])\n",
    "\n",
    "# print list in list slicing \n",
    "print(countries[4][1:2])\n",
    "\n",
    "# print jump index \n",
    "print(countries[0::3])\n"
   ]
  },
  {
   "cell_type": "code",
   "execution_count": null,
   "metadata": {},
   "outputs": [],
   "source": []
  }
 ],
 "metadata": {
  "kernelspec": {
   "display_name": "Python 3",
   "language": "python",
   "name": "python3"
  },
  "language_info": {
   "codemirror_mode": {
    "name": "ipython",
    "version": 3
   },
   "file_extension": ".py",
   "mimetype": "text/x-python",
   "name": "python",
   "nbconvert_exporter": "python",
   "pygments_lexer": "ipython3",
   "version": "3.10.1"
  }
 },
 "nbformat": 4,
 "nbformat_minor": 2
}
