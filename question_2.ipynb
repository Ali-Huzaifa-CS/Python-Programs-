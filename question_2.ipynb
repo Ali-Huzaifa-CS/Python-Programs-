{
 "cells": [
  {
   "cell_type": "code",
   "execution_count": 1,
   "metadata": {},
   "outputs": [
    {
     "name": "stdout",
     "output_type": "stream",
     "text": [
      "Inventory System\n",
      "Item ID : 1529 \n",
      "Description : HP Laptops \n",
      "Quantity : 100\n",
      "\n",
      "Item ID : 1245 \n",
      "Description : Lenovo Laptops \n",
      "Quantity : 49\n",
      "\n",
      "Item ID : 8134 \n",
      "Description : Dell Laptops \n",
      "Quantity : 142\n",
      "\n"
     ]
    }
   ],
   "source": [
    "items = ((1529,\"HP Laptops\",100),(1245,\"Lenovo Laptops\",49),(8134,\"Dell Laptops\",142))\n",
    "print(\"Inventory System\")\n",
    "\n",
    "for i in range(0,3):\n",
    "    id , description , quantity = items[i]\n",
    "    print(f\"Item ID : {id} \\nDescription : {description} \\nQuantity : {quantity}\")\n",
    "    print()\n"
   ]
  },
  {
   "cell_type": "code",
   "execution_count": null,
   "metadata": {},
   "outputs": [],
   "source": []
  }
 ],
 "metadata": {
  "kernelspec": {
   "display_name": "Python 3",
   "language": "python",
   "name": "python3"
  },
  "language_info": {
   "codemirror_mode": {
    "name": "ipython",
    "version": 3
   },
   "file_extension": ".py",
   "mimetype": "text/x-python",
   "name": "python",
   "nbconvert_exporter": "python",
   "pygments_lexer": "ipython3",
   "version": "3.10.1"
  }
 },
 "nbformat": 4,
 "nbformat_minor": 2
}
