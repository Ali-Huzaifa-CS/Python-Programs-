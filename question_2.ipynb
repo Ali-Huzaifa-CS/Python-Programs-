{
 "cells": [
  {
   "cell_type": "code",
   "execution_count": null,
   "metadata": {},
   "outputs": [],
   "source": [
    "items = ((1529,\"HP Laptops\",100),(1245,\"Lenovo Laptops\",49),(8134,\"Dell Laptops\",142))\n",
    "print(\"Inventory System\")\n",
    "\n",
    "for i in range(0,3):\n",
    "    id , description , quantity = items[i]\n",
    "    print(f\"Item ID : {id} \\nDescription : {description} \\nQuantity : {quantity}\")\n",
    "    print()\n"
   ]
  }
 ],
 "metadata": {
  "language_info": {
   "name": "python"
  }
 },
 "nbformat": 4,
 "nbformat_minor": 2
}
