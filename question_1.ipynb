{
 "cells": [
  {
   "cell_type": "markdown",
   "metadata": {},
   "source": [
    "# ASSIGNMENT 5"
   ]
  },
  {
   "cell_type": "code",
   "execution_count": 1,
   "metadata": {},
   "outputs": [],
   "source": [
    "# # 1. You need to store and manage employee records where each record includes an\n",
    "# employee's ID, name, and department. (Use tuples to represent each employee record)."
   ]
  },
  {
   "cell_type": "code",
   "execution_count": null,
   "metadata": {},
   "outputs": [],
   "source": [
    "emp_record =((101,\"Ali\",\"Data Analytics \"),\n",
    "(102,\"Sufyan\",\"Computer Science\"),\n",
    "(103,\"Umer\",\"Software engineering\"))\n",
    "\n",
    "print(\"EMPLOYEE RECORDS \")\n",
    "\n",
    "for i in range(0,3):\n",
    "    id,name,department = emp_record[i]\n",
    "    print(f\"Emp ID : {id} \\nName : {name}\\nDepartment : {department}\")\n",
    "    print()"
   ]
  },
  {
   "cell_type": "code",
   "execution_count": null,
   "metadata": {},
   "outputs": [],
   "source": []
  }
 ],
 "metadata": {
  "kernelspec": {
   "display_name": "Python 3",
   "language": "python",
   "name": "python3"
  },
  "language_info": {
   "codemirror_mode": {
    "name": "ipython",
    "version": 3
   },
   "file_extension": ".py",
   "mimetype": "text/x-python",
   "name": "python",
   "nbconvert_exporter": "python",
   "pygments_lexer": "ipython3",
   "version": "3.10.1"
  }
 },
 "nbformat": 4,
 "nbformat_minor": 2
}
